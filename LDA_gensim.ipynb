{
 "cells": [
  {
   "cell_type": "code",
   "execution_count": null,
   "id": "5f18ef08-7024-4d15-9b57-496283cb34b4",
   "metadata": {
    "tags": []
   },
   "outputs": [],
   "source": [
    "import re\n",
    "\n",
    "import nltk\n",
    "import numpy as np\n",
    "import pandas as pd\n",
    "from gensim import corpora\n",
    "from gensim.models import CoherenceModel, LdaModel, Phrases, TfidfModel, phrases\n",
    "from nltk import PorterStemmer\n",
    "from nltk.corpus import stopwords\n",
    "from sklearn.decomposition import LatentDirichletAllocation\n",
    "from sklearn.feature_extraction.text import TfidfVectorizer\n",
    "from sklearn.metrics import accuracy_score, f1_score\n",
    "from utils import load_and_describe_raw_data"
   ]
  },
  {
   "cell_type": "code",
   "execution_count": null,
   "id": "620d9051-9ec0-4280-8152-4b793e240161",
   "metadata": {
    "tags": []
   },
   "outputs": [],
   "source": [
    "#Basic operations\n",
    "class ProcessData:\n",
    "    def __init__(self,dataset):\n",
    "        self.dataframe = dataset\n",
    "\n",
    "    def eliminate_labels(self):\n",
    "        self.dataframe.drop(columns = ['Id','Score','ViewCount','LabelNum'])\n",
    "\n",
    "    def clean_text(self, text):\n",
    "        pattern = re.compile('<[^>]*>|\\'|\\(|\\)|\\\"|”|“|\\?|\\.|,|:|;|&|[|]|-|\\\\\\\\')\n",
    "        text = text.lower()\n",
    "        text = re.sub(pattern, \" \", text);\n",
    "        text = nltk.word_tokenize(text)\n",
    "        stop_words = stopwords.words('english')\n",
    "        text = [word for word in text if word not in stop_words]\n",
    "\n",
    "        stemmer = PorterStemmer()\n",
    "        try:\n",
    "            text = [stemmer.stem(word) for word in text]\n",
    "            text = [word for word in text if len(word) > 1]\n",
    "        except IndexError:\n",
    "            pass\n",
    "        return text\n",
    "\n",
    "    def merge_text_labels(self):\n",
    "        self.dataframe['Content'] = self.dataframe['Title'] + self.dataframe['Body']\n",
    "        self.dataframe['Content'] = self.dataframe['Content'].apply(self.clean_text)\n",
    "\n",
    "\n",
    "    def eliminate_small_posts(self):\n",
    "        self.dataframe = self.dataframe[self.dataframe['Content'].map(len) >= 30]\n",
    "        self.dataframe = self.dataframe[self.dataframe['Content'].map(type) == list]\n",
    "        self.dataframe.reset_index(drop=True, inplace=True)"
   ]
  },
  {
   "cell_type": "code",
   "execution_count": null,
   "id": "a7087e66-1c56-4015-8dba-349df99d8cb8",
   "metadata": {
    "tags": []
   },
   "outputs": [],
   "source": [
    "# Process data\n",
    "X_train,X_valid,X_test = load_and_describe_raw_data()\n",
    "dataset_train = ProcessData(X_train)\n",
    "dataset_train.eliminate_labels()\n",
    "dataset_train.merge_text_labels()\n",
    "dataset_train.eliminate_small_posts()"
   ]
  },
  {
   "cell_type": "code",
   "execution_count": null,
   "id": "36c03c2f-cecb-416c-8ddb-8905211ec577",
   "metadata": {
    "tags": []
   },
   "outputs": [],
   "source": [
    "#Model class\n",
    "class LDA():\n",
    "\n",
    "    def __init__(self,data):\n",
    "        self.data = data\n",
    "        self.corpus = []\n",
    "        self.id2word = None\n",
    "        self.model = None\n",
    "\n",
    "\n",
    "    def tfidf(self):\n",
    "        self.id2word = corpora.Dictionary(self.data)\n",
    "        print(self.id2word)\n",
    "        for text in self.data:\n",
    "            self.corpus.append(self.id2word.doc2bow(text))\n",
    "        tfidf = TfidfModel(self.corpus,id2word=self.id2word)\n",
    "\n",
    "        \n",
    "        low_value = 0.025\n",
    "        for i in range(0, len(self.corpus)):\n",
    "            bow = self.corpus[i]\n",
    "            low_value_words = [id for id, value in tfidf[bow] if value < low_value]\n",
    "            new_bow = [b for b in bow if b[0] not in low_value_words]\n",
    "            self.corpus[i] = new_bow\n",
    "\n",
    "    def ngram(self):\n",
    "        bigram = Phrases(self.data, min_count=5, threshold=100)  \n",
    "        bigram_mod = phrases.Phraser(bigram)\n",
    "\n",
    "        def make_bigrams(texts):\n",
    "            return [bigram_mod[doc] for doc in texts]\n",
    "\n",
    "        data_bigram = make_bigrams(self.data)\n",
    "        print(data_bigram[0])\n",
    "        self.id2word = corpora.Dictionary(data_bigram)\n",
    "        for text in self.data:\n",
    "            self.corpus.append(self.id2word.doc2bow(text))\n",
    "\n",
    "        tfidf = TfidfModel(self.corpus,id2word=self.id2word)\n",
    "        \n",
    "        low_value = 0.25\n",
    "        for i in range(0, len(self.corpus)):\n",
    "            bow = self.corpus[i]\n",
    "            low_value_words = [id for id, value in tfidf[bow] if value < low_value]\n",
    "            new_bow = [b for b in bow if b[0] not in low_value_words]\n",
    "            self.corpus[i] = new_bow\n",
    "\n",
    "    def cluster(self,topic=2,a=1e-2,b=0.5e-2):\n",
    "        self.model = LdaModel(corpus=self.corpus,\n",
    "                            id2word=self.id2word,\n",
    "                            num_topics=2,\n",
    "                            alpha=\"asymmetric\",\n",
    "                            eta=\"symmetric\",\n",
    "                            chunksize=1000,\n",
    "                            minimum_probability=0.0,\n",
    "                            passes=2)\n",
    "        return self.model"
   ]
  },
  {
   "cell_type": "code",
   "execution_count": null,
   "id": "34c6b405-3717-4d43-82d1-dd397eb23b21",
   "metadata": {
    "tags": []
   },
   "outputs": [],
   "source": [
    "# LDA with Tf-idf\n",
    "LDAmodel = LDA(X_train['Content'])\n",
    "LDAmodel.tfidf()\n",
    "LDAtest_tfidf = LDAmodel.cluster()\n",
    "print(LDAtest.show_topics())\n",
    "print('\\nPerplexity: ', LDAtest_tfidf.log_perplexity(LDAmodel.corpus))\n",
    "coherence_model_lda = CoherenceModel(model=LDAtest_tfidf, texts=LDAmodel.data, dictionary=LDAmodel.id2word, coherence='c_v')\n",
    "coherence_lda = coherence_model_lda.get_coherence()\n",
    "print('Coherence Score: ', coherence_lda)"
   ]
  },
  {
   "cell_type": "code",
   "execution_count": null,
   "id": "f79cb0ba-facb-4295-a293-68c07dc705f6",
   "metadata": {
    "tags": []
   },
   "outputs": [],
   "source": [
    "#Test data\n",
    "dataset_test = ProcessData(X_test)\n",
    "dataset_test.eliminate_labels()\n",
    "dataset_test.merge_text_labels()\n",
    "dataset_test.eliminate_small_posts()"
   ]
  },
  {
   "cell_type": "code",
   "execution_count": null,
   "id": "17902b39-a3c2-4adb-9417-8e67c7b08f00",
   "metadata": {
    "tags": []
   },
   "outputs": [],
   "source": [
    "#Test\n",
    "LDA_test_tf = LDA(dataset_test.dataframe['Content'])\n",
    "LDA_test_tf.ngram()\n",
    "y_pred_tf = []\n",
    "\n",
    "for index,corpus in enumerate(LDA_test_tf.corpus):\n",
    "    if 1 - LDAtest_tfidf[corpus][0][1] < 0.5:\n",
    "        y_pred_tf.append(0)\n",
    "    else:\n",
    "        y_pred_tf.append(1)\n",
    "\n",
    "accuracy= accuracy_score(dataset_test.dataframe['LabelNum'], y_pred_tf)\n",
    "print (accuracy)\n",
    "score = f1_score(dataset_test.dataframe['LabelNum'], y_pred_tf, average=\"macro\")\n",
    "print(\"Macro F1-Score: \", score)"
   ]
  },
  {
   "cell_type": "code",
   "execution_count": null,
   "id": "d7e9a4ba-d382-488e-ba78-e71c4fc3de4c",
   "metadata": {
    "tags": []
   },
   "outputs": [],
   "source": [
    "#Visualize\n",
    "import pyLDAvis.gensim\n",
    "\n",
    "pyLDAvis.enable_notebook()\n",
    "pyLDAvis.gensim.prepare(LDAtest_tfidf, LDAmodel.corpus, LDAmodel.id2word)"
   ]
  },
  {
   "cell_type": "code",
   "execution_count": null,
   "id": "02a1f3f9-ee13-4e01-8e2f-ad8511325a3c",
   "metadata": {
    "tags": []
   },
   "outputs": [],
   "source": [
    "#LDA with ngram\n",
    "LDAmodel = LDA(dataset_train.dataframe['Content'])\n",
    "LDAmodel.ngram()\n",
    "LDAtest = LDAmodel.cluster()\n",
    "print(LDAtest.show_topics())\n",
    "print('\\nPerplexity: ', LDAtest.log_perplexity(LDAmodel.corpus))\n",
    "coherence_model_lda = CoherenceModel(model=LDAtest, texts=LDAmodel.data, dictionary=LDAmodel.id2word, coherence='c_v')\n",
    "coherence_lda = coherence_model_lda.get_coherence()\n",
    "print('Coherence Score: ', coherence_lda)"
   ]
  },
  {
   "cell_type": "code",
   "execution_count": null,
   "id": "fe5bef66-e72f-4f36-8e69-6a42066d5146",
   "metadata": {
    "tags": []
   },
   "outputs": [],
   "source": [
    "#Visualize\n",
    "import pyLDAvis.gensim\n",
    "\n",
    "pyLDAvis.enable_notebook()\n",
    "pyLDAvis.gensim.prepare(LDAtest, LDAmodel.corpus, LDAmodel.id2word)"
   ]
  },
  {
   "cell_type": "code",
   "execution_count": null,
   "id": "8f8e59f5-afad-40eb-aeb1-e7c46340de83",
   "metadata": {},
   "outputs": [],
   "source": [
    "# Test\n",
    "dataset_test = ProcessData(X_test)\n",
    "dataset_test.eliminate_labels()\n",
    "dataset_test.merge_text_labels()\n",
    "dataset_test.eliminate_small_posts()"
   ]
  },
  {
   "cell_type": "code",
   "execution_count": null,
   "id": "b884c0bf-d8ad-429e-8313-06514f7d26ee",
   "metadata": {
    "tags": []
   },
   "outputs": [],
   "source": [
    "#Test\n",
    "LDA_test = LDA(dataset_test.dataframe['Content'])\n",
    "LDA_test.ngram()\n",
    "y_pred = []\n",
    "\n",
    "for index,corpus in enumerate(LDA_test.corpus):\n",
    "    if 1 - LDAtest[corpus][0][1] < 0.5:\n",
    "        y_pred.append(0)\n",
    "    else:\n",
    "        y_pred.append(1)\n",
    " \n",
    "accuracy= accuracy_score(dataset_test.dataframe['LabelNum'], y_pred)\n",
    "print (accuracy)\n",
    "score = f1_score(dataset_test.dataframe['LabelNum'], y_pred, average=\"macro\")\n",
    "print(\"Macro F1-Score: \", score)"
   ]
  },
  {
   "cell_type": "code",
   "execution_count": null,
   "id": "5921f306-de78-4b2a-a141-7e5e181a4ab6",
   "metadata": {
    "tags": []
   },
   "outputs": [],
   "source": [
    "#Hypertuning\n",
    "LDAmodel = LDA(dataset_train.dataframe['Content'])\n",
    "LDAmodel.ngram()\n",
    "\n",
    "num_topics = [4,2,6,14]\n",
    "alpha = [\"asymmetric\",\"symmetric\",0.01,0.16,0.5,0.1]\n",
    "eta = [\"symmetric\",0.01,0.5,0.16,1,0.01]\n",
    "model_results = {\n",
    "                 'Topics': [],\n",
    "                 'Alpha': [],\n",
    "                 'Beta': [],\n",
    "                 'Coherence': []\n",
    "                }\n",
    "\n",
    "for topics in num_topics:\n",
    "    for a in alpha:\n",
    "        for b in eta:\n",
    "            model = LDAmodel.cluster(topics,a,b)\n",
    "            coherence_model_lda = CoherenceModel(model=model, texts=LDAmodel.data, dictionary=LDAmodel.id2word, coherence='c_v')\n",
    "            coherence_lda = coherence_model_lda.get_coherence()\n",
    "            model_results['Topics'].append(topics)\n",
    "            model_results['Alpha'].append(a)\n",
    "            model_results['Beta'].append(b)\n",
    "            model_results['Coherence'].append(coherence_lda)\n",
    "            print(coherence_lda)\n",
    "pd.DataFrame(model_results).to_csv('./results/lda_tuning_results.csv', index=False)"
   ]
  }
 ],
 "metadata": {
  "kernelspec": {
   "display_name": "Python 3 (ipykernel)",
   "language": "python",
   "name": "python3"
  },
  "language_info": {
   "codemirror_mode": {
    "name": "ipython",
    "version": 3
   },
   "file_extension": ".py",
   "mimetype": "text/x-python",
   "name": "python",
   "nbconvert_exporter": "python",
   "pygments_lexer": "ipython3",
   "version": "3.11.5"
  }
 },
 "nbformat": 4,
 "nbformat_minor": 5
}
